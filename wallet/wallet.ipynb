{
 "cells": [
  {
   "cell_type": "code",
   "execution_count": 35,
   "metadata": {},
   "outputs": [],
   "source": [
    "import os\n",
    "from constants import *\n",
    "import subprocess\n",
    "import json\n",
    "from dotenv import load_dotenv\n",
    "from web3 import Web3\n",
    "from web3.middleware import geth_poa_middleware\n",
    "from web3.gas_strategies.time_based import medium_gas_price_strategy\n",
    "from bit import wif_to_key, PrivateKeyTestnet\n",
    "from bit.network import NetworkAPI\n",
    "from eth_account import Account\n",
    "from getpass import getpass"
   ]
  },
  {
   "cell_type": "code",
   "execution_count": 36,
   "metadata": {},
   "outputs": [],
   "source": [
    "w3 = Web3(Web3.HTTPProvider(\"http://127.0.0.1:8545\"))\n",
    "w3.middleware_onion.inject(geth_poa_middleware, layer=0)\n",
    "w3.eth.setGasPriceStrategy(medium_gas_price_strategy)"
   ]
  },
  {
   "cell_type": "code",
   "execution_count": 37,
   "metadata": {},
   "outputs": [
    {
     "data": {
      "text/plain": [
       "True"
      ]
     },
     "execution_count": 37,
     "metadata": {},
     "output_type": "execute_result"
    }
   ],
   "source": [
    "load_dotenv()"
   ]
  },
  {
   "cell_type": "code",
   "execution_count": 38,
   "metadata": {},
   "outputs": [],
   "source": [
    "# Generate mnemonic\n",
    "\n",
    "mnemonic = os.getenv('MNEMONIC')"
   ]
  },
  {
   "cell_type": "code",
   "execution_count": 39,
   "metadata": {},
   "outputs": [],
   "source": [
    "command = f'./derive -g --mnemonic =\"{mnemonic}\" --coin=\"{ETH}\" --numderive=5 --cols=index,path,address,privkey,pubkeyhash,xprv,xpub --format=json'"
   ]
  },
  {
   "cell_type": "code",
   "execution_count": 40,
   "metadata": {},
   "outputs": [
    {
     "name": "stdout",
     "output_type": "stream",
     "text": [
      "[{'index': 0, 'path': \"m/44'/60'/0'/0/0\", 'address': '0xCDc849A83772e7752FB41A4F1a86c2036aE78339', 'privkey': '0x9bd2bfcbff4e0709b8a47633986916bee435443955d5f122967046acbeba4deb', 'pubkeyhash': '6ed9bef40a51c15e3a338c7e0d698d736a6c995b', 'xprv': 'xprvA2VVLA6kAYhXawvvRdbhj8yMMEcHsPK2F99wMuFKoDsQjWJQt9aVqKrZoxqMvrQe7ctyn5G6HTZDWpyQB3Y2VYreKTJLXYmZiNW9Z2XcyMW', 'xpub': 'xpub6FUqjfddzvFpoS1PXf8i6Gv5uGSnGr2scN5YAHewMZQPcJdZRgtkP8B3fF7n1vnashdT9dJs8TynQmcvQGKgqecPaURe68n8mZsguVAuzDk'}, {'index': 1, 'path': \"m/44'/60'/0'/0/1\", 'address': '0xeA6a979A5C4bF0256c5292F386C41867C514cF0d', 'privkey': '0x2234ee537da753ce21d3a40cc566b254975cc2755fcb0c075a6bff715b06dd03', 'pubkeyhash': '428b10d4e521da29352e050a6c85163e1f99ef69', 'xprv': 'xprvA2VVLA6kAYhXcTpKca8jhmXaaqbd2XcU6sLnLdrGsSKpFhaVdSiZbKJmn5BNVKASwHHREgcD35e5qoMV2FR4sJksckwrE2R6EaDWzaSu3bi', 'xpub': 'xpub6FUqjfddzvFppwtnibfk4uUK8sS7RzLKU6GP92FtRmro8VueAz2p97dFdNg7k5QP8cCVTCeQmZiwr3kbkha4UxJVkTMj2D3pteY1DwWX5q5'}, {'index': 2, 'path': \"m/44'/60'/0'/0/2\", 'address': '0x4A0131FCf2CE34Ec4127fD64C841edA9B2ce6919', 'privkey': '0xc00be8bfd4a3ecd242bb4b7647a0e2cd90aa7b4d97bb56c5cdafb1d66444dc78', 'pubkeyhash': '8149ea7ff993a612ad4ed9c783716ec790ea7de3', 'xprv': 'xprvA2VVLA6kAYhXfGPEv68zxTtFLKWDD4xZVvhDVLJ9gcUYruRnffhfn4NgvNxTytXbDh6EftpGg5GnKd86rDD2395cR1hAgFR2iCR5Gis7MQu', 'xpub': 'xpub6FUqjfddzvFpskTi27g1KbpytMLhcXgQs9cpHihmEx1XjhkwDD1vKrhAmeMZpJUcTrJzdsqBmjVmYGHVPcb7QhRxYpgvxYdvnAyQdtNCFdR'}, {'index': 3, 'path': \"m/44'/60'/0'/0/3\", 'address': '0xb28bCA533C17F1d5C5cBCe9cf8C0b38cc77041e7', 'privkey': '0x11d16b228b874f4e553b783c92c56cd25e84a832304c33d1d3c90364de11ae43', 'pubkeyhash': '610b5d4363d987dbe55c8b4e0b39a1977ca0eb2a', 'xprv': 'xprvA2VVLA6kAYhXh5uFTmdN3j1awm8pQdsWcQ1bv2UbU35UB7QesHbXKxzKNKGbVFCc3w5T22n3foZbrpeh3WG2dD8FJx8NjoMLY78YzqJY4QP', 'xpub': 'xpub6FUqjfddzvFpuZyiZoANQrxKVnyJp6bMycwCiQtD2NcT3ujoQpumsmJoDcwiKiQi8tWkxuQARitDVrvtGQQNUyUsW2dHawZpNaNjusMmSh2'}, {'index': 4, 'path': \"m/44'/60'/0'/0/4\", 'address': '0xffbF9BcFF334fd7D87CD443e347e5aA9a04B0B2e', 'privkey': '0xc49e3adfb9b64dc6fbe0c41020529dc286036533dc1f2d445c4af9a4344afd7a', 'pubkeyhash': '3aeccd14976118952b3a6533031ebc8d5e4eb533', 'xprv': 'xprvA2VVLA6kAYhXkx81EbYbAEZwB1JCg8vyLwZ2Nh7K83gRjRNTUTovSkee1PA7cEmeRonwzN3Vvit9gQNo9tzeZcJm3U3G7FFhvAL3xXZChte', 'xpub': 'xpub6FUqjfddzvFpySCULd5bXNWfj38h5bepiAUdB5WvgPDQcDhc218AzYy7rf2ANpBfUgfi4Ba6iDTVQtWHGyEAPNdgiDEfXjSFeY9c8GckBr8'}]\n"
     ]
    }
   ],
   "source": [
    "# Run command above to generate a list of child accounts associated with the given mnemonic \n",
    "# and coin.\n",
    "p = subprocess.Popen(command, stdout=subprocess.PIPE, shell=True)\n",
    "(output, err) = p.communicate()\n",
    "p_status = p.wait()\n",
    "\n",
    "keys = json.loads(output)\n",
    "print(keys)"
   ]
  },
  {
   "cell_type": "code",
   "execution_count": 41,
   "metadata": {},
   "outputs": [],
   "source": [
    "# Given a mnemonic, specified coin, and number, derive_wallets() returns the number of accounts \n",
    "# specified.\n",
    "def derive_wallets(mnemonic, coin, number):\n",
    "    \n",
    "    command = f\"./derive -g --mnemonic ='{mnemonic}' --coin='{coin}' --numderive='{number}' --cols=index,path,address,privkey,pubkeyhash,xprv,xpub --format=json\"\n",
    "    p = subprocess.Popen(command, stdout=subprocess.PIPE, shell=True)\n",
    "    (output, err) = p.communicate()\n",
    "    p_status = p.wait()\n",
    "    keys = json.loads(output)\n",
    "    return keys"
   ]
  },
  {
   "cell_type": "code",
   "execution_count": 42,
   "metadata": {},
   "outputs": [],
   "source": [
    "# Create class for coin type. Ended up using variables from constants.py.\n",
    "\n",
    "# class coin:\n",
    "#    BTC = 'btc'\n",
    "#    ETH = 'eth'\n",
    "#    BTCTEST = 'btc-test'"
   ]
  },
  {
   "cell_type": "code",
   "execution_count": 43,
   "metadata": {},
   "outputs": [],
   "source": [
    "# takes in a coin and private key and generates bytes object.\n",
    "def priv_key_to_account(coin, privkey):\n",
    "    if coin == ETH:\n",
    "        return Account.privateKeyToAccount(privkey)\n",
    "    elif coin == BTCTEST:\n",
    "        return PrivateKeyTestnet(privkey)"
   ]
  },
  {
   "cell_type": "code",
   "execution_count": 44,
   "metadata": {},
   "outputs": [],
   "source": [
    "# Create variables for ETH private key and address for two accounts for testing.\n",
    "eth_derive = derive_wallets(mnemonic, ETH, 5)\n",
    "\n",
    "eth_acc = priv_key_to_account(ETH, eth_derive[0]['privkey'])\n",
    "\n",
    "eth_to_acc = eth_derive[1]['address']"
   ]
  },
  {
   "cell_type": "code",
   "execution_count": 45,
   "metadata": {},
   "outputs": [],
   "source": [
    "# Create variables for BTC private key and address for two accounts for testing.\n",
    "btc_derive = derive_wallets(mnemonic, BTCTEST, 2)\n",
    "\n",
    "btc_acc = priv_key_to_account(BTCTEST, btc_derive[0]['privkey'])\n",
    "\n",
    "btc_to_acc = btc_derive[1]['address']"
   ]
  },
  {
   "cell_type": "code",
   "execution_count": 46,
   "metadata": {},
   "outputs": [],
   "source": [
    "# Create ledger of transaction to be sent later.\n",
    "def create_tx(coin, account, to, amount):\n",
    "    if coin == ETH:\n",
    "        gasEstimate = w3.eth.estimateGas(\n",
    "            {\"from\": account.address, \"to\": to, \"value\": amount}\n",
    "        )\n",
    "        return {\n",
    "            \"from\": account.address,\n",
    "            \"to\": to,\n",
    "            \"value\": amount,\n",
    "            \"gasPrice\": w3.eth.gasPrice,\n",
    "            \"gas\": gasEstimate,\n",
    "            \"nonce\": w3.eth.getTransactionCount(account.address)\n",
    "        }\n",
    "    \n",
    "    elif coin == BTCTEST:\n",
    "        return PrivateKeyTestnet.prepare_transaction(account.address, [(to, amount, BTC)])"
   ]
  },
  {
   "cell_type": "code",
   "execution_count": 47,
   "metadata": {},
   "outputs": [
    {
     "data": {
      "text/plain": [
       "{'from': '0xCDc849A83772e7752FB41A4F1a86c2036aE78339',\n",
       " 'to': '0xeA6a979A5C4bF0256c5292F386C41867C514cF0d',\n",
       " 'value': 1,\n",
       " 'gasPrice': 1000000000,\n",
       " 'gas': 21000,\n",
       " 'nonce': 2}"
      ]
     },
     "execution_count": 47,
     "metadata": {},
     "output_type": "execute_result"
    }
   ],
   "source": [
    "create_tx(ETH, eth_acc, eth_to_acc, 1)"
   ]
  },
  {
   "cell_type": "code",
   "execution_count": 48,
   "metadata": {},
   "outputs": [
    {
     "data": {
      "text/plain": [
       "'{\"unspents\":[{\"amount\":2409728,\"confirmations\":1,\"script\":\"76a914a4156458e3032ad331313edb1e3957431b49cdfc88ac\",\"txid\":\"114128bbaa9a670c521e91c88fe0473167d491189eac26b115a389e9dddaf814\",\"txindex\":1,\"type\":\"p2pkh\",\"vsize\":148,\"segwit\":false}],\"outputs\":[[\"mnkZ3rcUxb68sCovcwKTJWawmdS9RhbvJx\",100],[\"mvUYjrYuRyvczDreo2VoCcfNWzcYRsbCdw\",2384316]]}'"
      ]
     },
     "execution_count": 48,
     "metadata": {},
     "output_type": "execute_result"
    }
   ],
   "source": [
    "btc_tx = create_tx(BTCTEST, btc_acc, btc_to_acc, 0.000001)\n",
    "btc_tx"
   ]
  },
  {
   "cell_type": "code",
   "execution_count": 49,
   "metadata": {},
   "outputs": [],
   "source": [
    "# Takes in same parameters as create_tx(), then calls on create_tx to generate a ledger to be \n",
    "# signed, and then sent to the recipient, meeting the given coin's requirements.\n",
    "def send_tx(coin, account, to, amount):\n",
    "    tx = create_tx(coin, account, to, amount)\n",
    "    signed_tx = account.sign_transaction(tx)\n",
    "    if coin == ETH:\n",
    "        result = w3.eth.sendRawTransaction(signed_tx.rawTransaction)\n",
    "        print(result.hex())\n",
    "        return result.hex()\n",
    "    elif coin == BTCTEST:\n",
    "        return NetworkAPI.broadcast_tx_testnet(signed_tx)"
   ]
  },
  {
   "cell_type": "code",
   "execution_count": 50,
   "metadata": {},
   "outputs": [],
   "source": [
    "# Takes in the sender and recpient's index number as parameters. Potentially useful for \n",
    "# transferring funds between child accounts.\n",
    "def transaction(coin, sender, to, amount):\n",
    "    \n",
    "    send_key = derive_wallets(mnemonic, coin, 6)[sender]['privkey']\n",
    "    send_hash = priv_key_to_account(coin, send_key)\n",
    "    to_address = derive_wallets(mnemonic, coin, 6)[to]['address']\n",
    "    \n",
    "    return send_tx(coin, send_hash, to_address, amount)"
   ]
  },
  {
   "cell_type": "code",
   "execution_count": 51,
   "metadata": {},
   "outputs": [],
   "source": [
    "transaction(BTCTEST, 0, 1, 0.0001)"
   ]
  },
  {
   "cell_type": "code",
   "execution_count": 54,
   "metadata": {},
   "outputs": [
    {
     "data": {
      "text/plain": [
       "'0.02374416'"
      ]
     },
     "execution_count": 54,
     "metadata": {},
     "output_type": "execute_result"
    }
   ],
   "source": [
    "btc_key = wif_to_key('cVxFxckGh3kzTdVWLLMsUJMXx2B8hh2Ku67HC13JTYmp341hstCe')\n",
    "btc_key.get_balance(BTC)"
   ]
  },
  {
   "cell_type": "code",
   "execution_count": 55,
   "metadata": {},
   "outputs": [
    {
     "name": "stdout",
     "output_type": "stream",
     "text": [
      "0xcb880362594dcef4fa0b16e3decca6e81adf9dbdba5482e0c4a1c5651151eda4\n"
     ]
    },
    {
     "data": {
      "text/plain": [
       "'0xcb880362594dcef4fa0b16e3decca6e81adf9dbdba5482e0c4a1c5651151eda4'"
      ]
     },
     "execution_count": 55,
     "metadata": {},
     "output_type": "execute_result"
    }
   ],
   "source": [
    "send_tx(ETH, eth_acc, eth_to_acc, 1)"
   ]
  },
  {
   "cell_type": "code",
   "execution_count": null,
   "metadata": {},
   "outputs": [],
   "source": []
  }
 ],
 "metadata": {
  "kernelspec": {
   "display_name": "Python 3",
   "language": "python",
   "name": "python3"
  },
  "language_info": {
   "codemirror_mode": {
    "name": "ipython",
    "version": 3
   },
   "file_extension": ".py",
   "mimetype": "text/x-python",
   "name": "python",
   "nbconvert_exporter": "python",
   "pygments_lexer": "ipython3",
   "version": "3.7.7"
  }
 },
 "nbformat": 4,
 "nbformat_minor": 4
}
